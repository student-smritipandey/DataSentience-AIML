{
 "cells": [
  {
   "cell_type": "code",
   "execution_count": 1,
   "id": "c28135c5-7e27-484e-8174-2e9d5035db51",
   "metadata": {},
   "outputs": [],
   "source": [
    "import pandas as pd\n",
    "import numpy as np\n",
    "from sklearn.model_selection import train_test_split\n",
    "from sklearn.preprocessing import StandardScaler\n",
    "from sklearn.svm import SVR\n",
    "from sklearn.tree import DecisionTreeRegressor\n",
    "from sklearn.neural_network import MLPRegressor\n",
    "from sklearn.metrics import r2_score, mean_squared_error\n",
    "import matplotlib.pyplot as plt\n"
   ]
  },
  {
   "cell_type": "code",
   "execution_count": 2,
   "id": "43585139-e99c-4fa5-aa4d-1db7bc8d9513",
   "metadata": {},
   "outputs": [],
   "source": [
    "\n",
    "crop_data = pd.read_csv(r\"C:\\Users\\fastf\\Downloads\\crop_production.csv\")"
   ]
  },
  {
   "cell_type": "code",
   "execution_count": 3,
   "id": "f2cce76a-21b0-4585-93d4-527ae0faf693",
   "metadata": {},
   "outputs": [
    {
     "data": {
      "text/html": [
       "<div>\n",
       "<style scoped>\n",
       "    .dataframe tbody tr th:only-of-type {\n",
       "        vertical-align: middle;\n",
       "    }\n",
       "\n",
       "    .dataframe tbody tr th {\n",
       "        vertical-align: top;\n",
       "    }\n",
       "\n",
       "    .dataframe thead th {\n",
       "        text-align: right;\n",
       "    }\n",
       "</style>\n",
       "<table border=\"1\" class=\"dataframe\">\n",
       "  <thead>\n",
       "    <tr style=\"text-align: right;\">\n",
       "      <th></th>\n",
       "      <th>State_Name</th>\n",
       "      <th>District_Name</th>\n",
       "      <th>Crop_Year</th>\n",
       "      <th>Season</th>\n",
       "      <th>Crop</th>\n",
       "      <th>Area</th>\n",
       "      <th>Production</th>\n",
       "    </tr>\n",
       "  </thead>\n",
       "  <tbody>\n",
       "    <tr>\n",
       "      <th>0</th>\n",
       "      <td>Andaman and Nicobar Islands</td>\n",
       "      <td>NICOBARS</td>\n",
       "      <td>2000</td>\n",
       "      <td>Kharif</td>\n",
       "      <td>Arecanut</td>\n",
       "      <td>1254.0</td>\n",
       "      <td>2000.0</td>\n",
       "    </tr>\n",
       "    <tr>\n",
       "      <th>1</th>\n",
       "      <td>Andaman and Nicobar Islands</td>\n",
       "      <td>NICOBARS</td>\n",
       "      <td>2000</td>\n",
       "      <td>Kharif</td>\n",
       "      <td>Other Kharif pulses</td>\n",
       "      <td>2.0</td>\n",
       "      <td>1.0</td>\n",
       "    </tr>\n",
       "    <tr>\n",
       "      <th>2</th>\n",
       "      <td>Andaman and Nicobar Islands</td>\n",
       "      <td>NICOBARS</td>\n",
       "      <td>2000</td>\n",
       "      <td>Kharif</td>\n",
       "      <td>Rice</td>\n",
       "      <td>102.0</td>\n",
       "      <td>321.0</td>\n",
       "    </tr>\n",
       "    <tr>\n",
       "      <th>3</th>\n",
       "      <td>Andaman and Nicobar Islands</td>\n",
       "      <td>NICOBARS</td>\n",
       "      <td>2000</td>\n",
       "      <td>Whole Year</td>\n",
       "      <td>Banana</td>\n",
       "      <td>176.0</td>\n",
       "      <td>641.0</td>\n",
       "    </tr>\n",
       "  </tbody>\n",
       "</table>\n",
       "</div>"
      ],
      "text/plain": [
       "                    State_Name District_Name  Crop_Year       Season  \\\n",
       "0  Andaman and Nicobar Islands      NICOBARS       2000  Kharif        \n",
       "1  Andaman and Nicobar Islands      NICOBARS       2000  Kharif        \n",
       "2  Andaman and Nicobar Islands      NICOBARS       2000  Kharif        \n",
       "3  Andaman and Nicobar Islands      NICOBARS       2000  Whole Year    \n",
       "\n",
       "                  Crop    Area  Production  \n",
       "0             Arecanut  1254.0      2000.0  \n",
       "1  Other Kharif pulses     2.0         1.0  \n",
       "2                 Rice   102.0       321.0  \n",
       "3               Banana   176.0       641.0  "
      ]
     },
     "execution_count": 3,
     "metadata": {},
     "output_type": "execute_result"
    }
   ],
   "source": [
    "crop_data.head(4)"
   ]
  },
  {
   "cell_type": "code",
   "execution_count": 4,
   "id": "463bbf90-5413-42d7-ad60-5684f63e93be",
   "metadata": {},
   "outputs": [
    {
     "data": {
      "text/plain": [
       "(246091, 7)"
      ]
     },
     "execution_count": 4,
     "metadata": {},
     "output_type": "execute_result"
    }
   ],
   "source": [
    "crop_data.shape"
   ]
  },
  {
   "cell_type": "code",
   "execution_count": 5,
   "id": "43525749-040c-403a-b9bf-3e1ec26330e5",
   "metadata": {},
   "outputs": [
    {
     "data": {
      "text/plain": [
       "Index(['State_Name', 'District_Name', 'Crop_Year', 'Season', 'Crop', 'Area',\n",
       "       'Production'],\n",
       "      dtype='object')"
      ]
     },
     "execution_count": 5,
     "metadata": {},
     "output_type": "execute_result"
    }
   ],
   "source": [
    "crop_data.columns"
   ]
  },
  {
   "cell_type": "code",
   "execution_count": 6,
   "id": "5a45c5b7-fbfc-4741-990e-c774f0f62869",
   "metadata": {},
   "outputs": [
    {
     "data": {
      "text/plain": [
       "Index(['State_Name', 'District_Name', 'Crop_Year', 'Season', 'Crop', 'Area',\n",
       "       'Production'],\n",
       "      dtype='object')"
      ]
     },
     "execution_count": 6,
     "metadata": {},
     "output_type": "execute_result"
    }
   ],
   "source": [
    "crop_data.columns"
   ]
  },
  {
   "cell_type": "code",
   "execution_count": 7,
   "id": "868615bb-ec03-4ec0-b448-8dd3dafd2124",
   "metadata": {},
   "outputs": [
    {
     "data": {
      "text/plain": [
       "State_Name        object\n",
       "District_Name     object\n",
       "Crop_Year          int64\n",
       "Season            object\n",
       "Crop              object\n",
       "Area             float64\n",
       "Production       float64\n",
       "dtype: object"
      ]
     },
     "execution_count": 7,
     "metadata": {},
     "output_type": "execute_result"
    }
   ],
   "source": [
    "crop_data.dtypes"
   ]
  },
  {
   "cell_type": "code",
   "execution_count": 8,
   "id": "eb248a4c-dcaf-40f8-9af5-c26825327d58",
   "metadata": {},
   "outputs": [
    {
     "data": {
      "text/plain": [
       "array(['Andaman and Nicobar Islands', 'Andhra Pradesh',\n",
       "       'Arunachal Pradesh', 'Assam', 'Bihar', 'Chandigarh',\n",
       "       'Chhattisgarh', 'Dadra and Nagar Haveli', 'Goa', 'Gujarat',\n",
       "       'Haryana', 'Himachal Pradesh', 'Jammu and Kashmir ', 'Jharkhand',\n",
       "       'Karnataka', 'Kerala', 'Madhya Pradesh', 'Maharashtra', 'Manipur',\n",
       "       'Meghalaya', 'Mizoram', 'Nagaland', 'Odisha', 'Puducherry',\n",
       "       'Punjab', 'Rajasthan', 'Sikkim', 'Tamil Nadu', 'Telangana ',\n",
       "       'Tripura', 'Uttar Pradesh', 'Uttarakhand', 'West Bengal'],\n",
       "      dtype=object)"
      ]
     },
     "execution_count": 8,
     "metadata": {},
     "output_type": "execute_result"
    }
   ],
   "source": [
    "crop_data.State_Name.unique()"
   ]
  },
  {
   "cell_type": "code",
   "execution_count": 9,
   "id": "66f6e35d-afe3-4ba5-9bfa-edb44cd2118a",
   "metadata": {},
   "outputs": [],
   "source": [
    "crop_data.drop('State_Name', axis =1,inplace = True)"
   ]
  },
  {
   "cell_type": "code",
   "execution_count": 10,
   "id": "28089e06-1f7d-4c2d-94eb-a21bb01d9d8b",
   "metadata": {},
   "outputs": [
    {
     "data": {
      "text/html": [
       "<div>\n",
       "<style scoped>\n",
       "    .dataframe tbody tr th:only-of-type {\n",
       "        vertical-align: middle;\n",
       "    }\n",
       "\n",
       "    .dataframe tbody tr th {\n",
       "        vertical-align: top;\n",
       "    }\n",
       "\n",
       "    .dataframe thead th {\n",
       "        text-align: right;\n",
       "    }\n",
       "</style>\n",
       "<table border=\"1\" class=\"dataframe\">\n",
       "  <thead>\n",
       "    <tr style=\"text-align: right;\">\n",
       "      <th></th>\n",
       "      <th>District_Name</th>\n",
       "      <th>Crop_Year</th>\n",
       "      <th>Season</th>\n",
       "      <th>Crop</th>\n",
       "      <th>Area</th>\n",
       "      <th>Production</th>\n",
       "      <th>Yield</th>\n",
       "    </tr>\n",
       "  </thead>\n",
       "  <tbody>\n",
       "    <tr>\n",
       "      <th>0</th>\n",
       "      <td>NICOBARS</td>\n",
       "      <td>2000</td>\n",
       "      <td>Kharif</td>\n",
       "      <td>Arecanut</td>\n",
       "      <td>1254.0</td>\n",
       "      <td>2000.0</td>\n",
       "      <td>1.594896</td>\n",
       "    </tr>\n",
       "    <tr>\n",
       "      <th>1</th>\n",
       "      <td>NICOBARS</td>\n",
       "      <td>2000</td>\n",
       "      <td>Kharif</td>\n",
       "      <td>Other Kharif pulses</td>\n",
       "      <td>2.0</td>\n",
       "      <td>1.0</td>\n",
       "      <td>0.500000</td>\n",
       "    </tr>\n",
       "    <tr>\n",
       "      <th>2</th>\n",
       "      <td>NICOBARS</td>\n",
       "      <td>2000</td>\n",
       "      <td>Kharif</td>\n",
       "      <td>Rice</td>\n",
       "      <td>102.0</td>\n",
       "      <td>321.0</td>\n",
       "      <td>3.147059</td>\n",
       "    </tr>\n",
       "    <tr>\n",
       "      <th>3</th>\n",
       "      <td>NICOBARS</td>\n",
       "      <td>2000</td>\n",
       "      <td>Whole Year</td>\n",
       "      <td>Banana</td>\n",
       "      <td>176.0</td>\n",
       "      <td>641.0</td>\n",
       "      <td>3.642045</td>\n",
       "    </tr>\n",
       "    <tr>\n",
       "      <th>4</th>\n",
       "      <td>NICOBARS</td>\n",
       "      <td>2000</td>\n",
       "      <td>Whole Year</td>\n",
       "      <td>Cashewnut</td>\n",
       "      <td>720.0</td>\n",
       "      <td>165.0</td>\n",
       "      <td>0.229167</td>\n",
       "    </tr>\n",
       "    <tr>\n",
       "      <th>5</th>\n",
       "      <td>NICOBARS</td>\n",
       "      <td>2000</td>\n",
       "      <td>Whole Year</td>\n",
       "      <td>Coconut</td>\n",
       "      <td>18168.0</td>\n",
       "      <td>65100000.0</td>\n",
       "      <td>3583.223250</td>\n",
       "    </tr>\n",
       "    <tr>\n",
       "      <th>6</th>\n",
       "      <td>NICOBARS</td>\n",
       "      <td>2000</td>\n",
       "      <td>Whole Year</td>\n",
       "      <td>Dry ginger</td>\n",
       "      <td>36.0</td>\n",
       "      <td>100.0</td>\n",
       "      <td>2.777778</td>\n",
       "    </tr>\n",
       "    <tr>\n",
       "      <th>7</th>\n",
       "      <td>NICOBARS</td>\n",
       "      <td>2000</td>\n",
       "      <td>Whole Year</td>\n",
       "      <td>Sugarcane</td>\n",
       "      <td>1.0</td>\n",
       "      <td>2.0</td>\n",
       "      <td>2.000000</td>\n",
       "    </tr>\n",
       "    <tr>\n",
       "      <th>8</th>\n",
       "      <td>NICOBARS</td>\n",
       "      <td>2000</td>\n",
       "      <td>Whole Year</td>\n",
       "      <td>Sweet potato</td>\n",
       "      <td>5.0</td>\n",
       "      <td>15.0</td>\n",
       "      <td>3.000000</td>\n",
       "    </tr>\n",
       "    <tr>\n",
       "      <th>9</th>\n",
       "      <td>NICOBARS</td>\n",
       "      <td>2000</td>\n",
       "      <td>Whole Year</td>\n",
       "      <td>Tapioca</td>\n",
       "      <td>40.0</td>\n",
       "      <td>169.0</td>\n",
       "      <td>4.225000</td>\n",
       "    </tr>\n",
       "  </tbody>\n",
       "</table>\n",
       "</div>"
      ],
      "text/plain": [
       "  District_Name  Crop_Year       Season                 Crop     Area  \\\n",
       "0      NICOBARS       2000  Kharif                  Arecanut   1254.0   \n",
       "1      NICOBARS       2000  Kharif       Other Kharif pulses      2.0   \n",
       "2      NICOBARS       2000  Kharif                      Rice    102.0   \n",
       "3      NICOBARS       2000  Whole Year                Banana    176.0   \n",
       "4      NICOBARS       2000  Whole Year             Cashewnut    720.0   \n",
       "5      NICOBARS       2000  Whole Year              Coconut   18168.0   \n",
       "6      NICOBARS       2000  Whole Year            Dry ginger     36.0   \n",
       "7      NICOBARS       2000  Whole Year             Sugarcane      1.0   \n",
       "8      NICOBARS       2000  Whole Year          Sweet potato      5.0   \n",
       "9      NICOBARS       2000  Whole Year               Tapioca     40.0   \n",
       "\n",
       "   Production        Yield  \n",
       "0      2000.0     1.594896  \n",
       "1         1.0     0.500000  \n",
       "2       321.0     3.147059  \n",
       "3       641.0     3.642045  \n",
       "4       165.0     0.229167  \n",
       "5  65100000.0  3583.223250  \n",
       "6       100.0     2.777778  \n",
       "7         2.0     2.000000  \n",
       "8        15.0     3.000000  \n",
       "9       169.0     4.225000  "
      ]
     },
     "execution_count": 10,
     "metadata": {},
     "output_type": "execute_result"
    }
   ],
   "source": [
    "crop_data['Yield'] = (crop_data['Production'] / crop_data['Area'])\n",
    "crop_data.head(10) "
   ]
  },
  {
   "cell_type": "code",
   "execution_count": 11,
   "id": "80813176-b02d-409d-913b-97b1db035f28",
   "metadata": {},
   "outputs": [
    {
     "data": {
      "text/plain": [
       "District_Name       0\n",
       "Crop_Year           0\n",
       "Season              0\n",
       "Crop                0\n",
       "Area                0\n",
       "Production       3730\n",
       "Yield            3730\n",
       "dtype: int64"
      ]
     },
     "execution_count": 11,
     "metadata": {},
     "output_type": "execute_result"
    }
   ],
   "source": [
    "crop_data.isnull().sum()"
   ]
  },
  {
   "cell_type": "code",
   "execution_count": 12,
   "id": "2aae5632-b414-4c3b-869b-e2d959168741",
   "metadata": {},
   "outputs": [],
   "source": [
    "crop_data = crop_data.dropna()"
   ]
  },
  {
   "cell_type": "code",
   "execution_count": 13,
   "id": "9b156d54-e1eb-402e-9f1f-416faafaaa90",
   "metadata": {},
   "outputs": [
    {
     "data": {
      "text/plain": [
       "District_Name    False\n",
       "Crop_Year        False\n",
       "Season           False\n",
       "Crop             False\n",
       "Area             False\n",
       "Production       False\n",
       "Yield            False\n",
       "dtype: bool"
      ]
     },
     "execution_count": 13,
     "metadata": {},
     "output_type": "execute_result"
    }
   ],
   "source": [
    "crop_data.isnull().any()"
   ]
  },
  {
   "cell_type": "code",
   "execution_count": 14,
   "id": "0542c7b9-ad4f-4c2e-b67b-6b4f5bd3819a",
   "metadata": {},
   "outputs": [
    {
     "data": {
      "image/png": "[encoded data removed]",
      "text/plain": [
       "<Figure size 600x500 with 2 Axes>"
      ]
     },
     "metadata": {},
     "output_type": "display_data"
    }
   ],
   "source": [
    "plt.figure(figsize =(6,5))\n",
    "plt.subplot(1,2,1)\n",
    "plt.boxplot(crop_data['Area'])\n",
    "plt.title('Box Plot of Area')\n",
    "plt.subplot(1,2,2)\n",
    "plt.boxplot(crop_data['Production'])\n",
    "plt.title('Box Plot of Production')\n",
    "plt.show()\n",
    "            "
   ]
  },
  {
   "cell_type": "code",
   "execution_count": 15,
   "id": "43fb990f-87e8-4975-bb5b-cd519dd653f5",
   "metadata": {},
   "outputs": [
    {
     "data": {
      "image/png": "[encoded data removed]",
      "text/plain": [
       "<Figure size 600x500 with 2 Axes>"
      ]
     },
     "metadata": {},
     "output_type": "display_data"
    }
   ],
   "source": [
    "import seaborn as sns\n",
    "corr_matrix = crop_data.select_dtypes(include=['float64', 'int64']).corr()\n",
    "plt.figure(figsize=(6, 5))\n",
    "sns.heatmap(corr_matrix, annot=True, cmap='coolwarm', square=True)\n",
    "plt.title('Correlation Matrix')\n",
    "plt.show()"
   ]
  },
  {
   "cell_type": "code",
   "execution_count": 16,
   "id": "ac586146-0275-472c-940c-56f4cfafde45",
   "metadata": {},
   "outputs": [],
   "source": [
    "#split features and labels\n"
   ]
  },
  {
   "cell_type": "code",
   "execution_count": 17,
   "id": "0c776025-94ff-4572-a36a-e4f92467a4c1",
   "metadata": {},
   "outputs": [],
   "source": [
    "x = crop_data.drop('Yield', axis=1)\n",
    "y = crop_data['Yield']\n",
    "x_train, x_test, y_train, y_test = train_test_split(x, y, test_size=0.2, random_state=42)\n"
   ]
  },
  {
   "cell_type": "code",
   "execution_count": 18,
   "id": "893cbb15-b53b-437b-a236-123a4f897d27",
   "metadata": {},
   "outputs": [
    {
     "name": "stdout",
     "output_type": "stream",
     "text": [
      "District_Name     object\n",
      "Crop_Year          int64\n",
      "Season            object\n",
      "Crop              object\n",
      "Area             float64\n",
      "Production       float64\n",
      "dtype: object\n"
     ]
    }
   ],
   "source": [
    "print(x_train.dtypes)\n"
   ]
  },
  {
   "cell_type": "code",
   "execution_count": 19,
   "id": "d3d1dc35-fd45-4840-bbcb-3cee23ca77de",
   "metadata": {},
   "outputs": [],
   "source": [
    "import pandas as pd\n",
    "from sklearn.model_selection import train_test_split\n",
    "from sklearn.preprocessing import StandardScaler\n",
    "x = crop_data.drop('Yield', axis=1)\n",
    "y = crop_data['Yield']\n",
    "x_encoded = pd.get_dummies(x)\n",
    "x_train, x_test, y_train, y_test = train_test_split(x_encoded, y, test_size=0.2, random_state=42)\n",
    "x_test = x_test.reindex(columns=x_train.columns, fill_value=0)\n",
    "scaler = StandardScaler()\n",
    "x_train_scaled = scaler.fit_transform(x_train)\n",
    "x_test_scaled = scaler.transform(x_test)"
   ]
  },
  {
   "cell_type": "code",
   "execution_count": 20,
   "id": "94e7c455-7ceb-45d8-96f1-e7744136849f",
   "metadata": {},
   "outputs": [
    {
     "name": "stdout",
     "output_type": "stream",
     "text": [
      "Decision Tree RSQUARE Score: 0.9421974211702162\n",
      "Decision Tree RMSE: 176.8327415807382\n"
     ]
    }
   ],
   "source": [
    "from sklearn.tree import DecisionTreeRegressor\n",
    "from sklearn.metrics import r2_score, mean_squared_error\n",
    "dt_model = DecisionTreeRegressor(random_state=42)\n",
    "dt_model.fit(x_train, y_train)\n",
    "y_pred_dt = dt_model.predict(x_test)\n",
    "dt_r2 = r2_score(y_test, y_pred_dt)\n",
    "dt_rmse = np.sqrt(mean_squared_error(y_test, y_pred_dt))\n",
    "print(\"Decision Tree RSQUARE Score:\", dt_r2)\n",
    "print(\"Decision Tree RMSE:\", dt_rmse)\n"
   ]
  },
  {
   "cell_type": "code",
   "execution_count": 21,
   "id": "bb0472f1-b775-48cc-989f-cc5db86cd2b4",
   "metadata": {},
   "outputs": [
    {
     "name": "stderr",
     "output_type": "stream",
     "text": [
      "C:\\Users\\fastf\\AppData\\Roaming\\Python\\Python312\\site-packages\\keras\\src\\layers\\core\\dense.py:93: UserWarning: Do not pass an `input_shape`/`input_dim` argument to a layer. When using Sequential models, prefer using an `Input(shape)` object as the first layer in the model instead.\n",
      "  super().__init__(activity_regularizer=activity_regularizer, **kwargs)\n"
     ]
    },
    {
     "name": "stdout",
     "output_type": "stream",
     "text": [
      "Epoch 1/100\n",
      "\u001b[1m12118/12118\u001b[0m \u001b[32m━━━━━━━━━━━━━━━━━━━━\u001b[0m\u001b[37m\u001b[0m \u001b[1m42s\u001b[0m 3ms/step - loss: 556672.0000 - val_loss: 333583.2812\n",
      "Epoch 2/100\n",
      "\u001b[1m12118/12118\u001b[0m \u001b[32m━━━━━━━━━━━━━━━━━━━━\u001b[0m\u001b[37m\u001b[0m \u001b[1m40s\u001b[0m 3ms/step - loss: 408542.7188 - val_loss: 293414.8750\n",
      "Epoch 3/100\n",
      "\u001b[1m12118/12118\u001b[0m \u001b[32m━━━━━━━━━━━━━━━━━━━━\u001b[0m\u001b[37m\u001b[0m \u001b[1m40s\u001b[0m 3ms/step - loss: 467297.9688 - val_loss: 278936.3438\n",
      "Epoch 4/100\n",
      "\u001b[1m12118/12118\u001b[0m \u001b[32m━━━━━━━━━━━━━━━━━━━━\u001b[0m\u001b[37m\u001b[0m \u001b[1m41s\u001b[0m 3ms/step - loss: 535926.1875 - val_loss: 270460.0938\n",
      "Epoch 5/100\n",
      "\u001b[1m12118/12118\u001b[0m \u001b[32m━━━━━━━━━━━━━━━━━━━━\u001b[0m\u001b[37m\u001b[0m \u001b[1m41s\u001b[0m 3ms/step - loss: 448163.1562 - val_loss: 263183.5625\n",
      "Epoch 6/100\n",
      "\u001b[1m12118/12118\u001b[0m \u001b[32m━━━━━━━━━━━━━━━━━━━━\u001b[0m\u001b[37m\u001b[0m \u001b[1m40s\u001b[0m 3ms/step - loss: 580069.7500 - val_loss: 263772.9688\n",
      "Epoch 7/100\n",
      "\u001b[1m12118/12118\u001b[0m \u001b[32m━━━━━━━━━━━━━━━━━━━━\u001b[0m\u001b[37m\u001b[0m \u001b[1m37s\u001b[0m 3ms/step - loss: 502744.1875 - val_loss: 255569.5156\n",
      "Epoch 8/100\n",
      "\u001b[1m12118/12118\u001b[0m \u001b[32m━━━━━━━━━━━━━━━━━━━━\u001b[0m\u001b[37m\u001b[0m \u001b[1m38s\u001b[0m 3ms/step - loss: 356928.4375 - val_loss: 251959.1406\n",
      "Epoch 9/100\n",
      "\u001b[1m12118/12118\u001b[0m \u001b[32m━━━━━━━━━━━━━━━━━━━━\u001b[0m\u001b[37m\u001b[0m \u001b[1m181s\u001b[0m 15ms/step - loss: 440216.6250 - val_loss: 249595.7344\n",
      "Epoch 10/100\n",
      "\u001b[1m12118/12118\u001b[0m \u001b[32m━━━━━━━━━━━━━━━━━━━━\u001b[0m\u001b[37m\u001b[0m \u001b[1m38s\u001b[0m 3ms/step - loss: 422029.6562 - val_loss: 245871.0781\n",
      "Epoch 11/100\n",
      "\u001b[1m12118/12118\u001b[0m \u001b[32m━━━━━━━━━━━━━━━━━━━━\u001b[0m\u001b[37m\u001b[0m \u001b[1m37s\u001b[0m 3ms/step - loss: 377143.5000 - val_loss: 247519.9375\n",
      "Epoch 12/100\n",
      "\u001b[1m12118/12118\u001b[0m \u001b[32m━━━━━━━━━━━━━━━━━━━━\u001b[0m\u001b[37m\u001b[0m \u001b[1m38s\u001b[0m 3ms/step - loss: 368038.8750 - val_loss: 245587.8125\n",
      "Epoch 13/100\n",
      "\u001b[1m12118/12118\u001b[0m \u001b[32m━━━━━━━━━━━━━━━━━━━━\u001b[0m\u001b[37m\u001b[0m \u001b[1m38s\u001b[0m 3ms/step - loss: 430441.2500 - val_loss: 243102.2656\n",
      "Epoch 14/100\n",
      "\u001b[1m12118/12118\u001b[0m \u001b[32m━━━━━━━━━━━━━━━━━━━━\u001b[0m\u001b[37m\u001b[0m \u001b[1m38s\u001b[0m 3ms/step - loss: 389633.7188 - val_loss: 244782.1562\n",
      "Epoch 15/100\n",
      "\u001b[1m12118/12118\u001b[0m \u001b[32m━━━━━━━━━━━━━━━━━━━━\u001b[0m\u001b[37m\u001b[0m \u001b[1m37s\u001b[0m 3ms/step - loss: 292100.3438 - val_loss: 244780.3281\n",
      "Epoch 16/100\n",
      "\u001b[1m12118/12118\u001b[0m \u001b[32m━━━━━━━━━━━━━━━━━━━━\u001b[0m\u001b[37m\u001b[0m \u001b[1m38s\u001b[0m 3ms/step - loss: 335724.1875 - val_loss: 240888.0781\n",
      "Epoch 17/100\n",
      "\u001b[1m12118/12118\u001b[0m \u001b[32m━━━━━━━━━━━━━━━━━━━━\u001b[0m\u001b[37m\u001b[0m \u001b[1m38s\u001b[0m 3ms/step - loss: 373691.5625 - val_loss: 240745.5000\n",
      "Epoch 18/100\n",
      "\u001b[1m12118/12118\u001b[0m \u001b[32m━━━━━━━━━━━━━━━━━━━━\u001b[0m\u001b[37m\u001b[0m \u001b[1m38s\u001b[0m 3ms/step - loss: 277205.8750 - val_loss: 245687.7344\n",
      "Epoch 19/100\n",
      "\u001b[1m12118/12118\u001b[0m \u001b[32m━━━━━━━━━━━━━━━━━━━━\u001b[0m\u001b[37m\u001b[0m \u001b[1m38s\u001b[0m 3ms/step - loss: 366357.5312 - val_loss: 241803.0469\n",
      "Epoch 20/100\n",
      "\u001b[1m12118/12118\u001b[0m \u001b[32m━━━━━━━━━━━━━━━━━━━━\u001b[0m\u001b[37m\u001b[0m \u001b[1m37s\u001b[0m 3ms/step - loss: 362496.4375 - val_loss: 239729.9844\n",
      "Epoch 21/100\n",
      "\u001b[1m12118/12118\u001b[0m \u001b[32m━━━━━━━━━━━━━━━━━━━━\u001b[0m\u001b[37m\u001b[0m \u001b[1m39s\u001b[0m 3ms/step - loss: 324287.0625 - val_loss: 242942.5312\n",
      "Epoch 22/100\n",
      "\u001b[1m12118/12118\u001b[0m \u001b[32m━━━━━━━━━━━━━━━━━━━━\u001b[0m\u001b[37m\u001b[0m \u001b[1m38s\u001b[0m 3ms/step - loss: 407716.6875 - val_loss: 238672.9375\n",
      "Epoch 23/100\n",
      "\u001b[1m12118/12118\u001b[0m \u001b[32m━━━━━━━━━━━━━━━━━━━━\u001b[0m\u001b[37m\u001b[0m \u001b[1m80s\u001b[0m 7ms/step - loss: 429141.4062 - val_loss: 234346.5781\n",
      "Epoch 24/100\n",
      "\u001b[1m12118/12118\u001b[0m \u001b[32m━━━━━━━━━━━━━━━━━━━━\u001b[0m\u001b[37m\u001b[0m \u001b[1m37s\u001b[0m 3ms/step - loss: 424623.4062 - val_loss: 238397.4844\n",
      "Epoch 25/100\n",
      "\u001b[1m12118/12118\u001b[0m \u001b[32m━━━━━━━━━━━━━━━━━━━━\u001b[0m\u001b[37m\u001b[0m \u001b[1m38s\u001b[0m 3ms/step - loss: 357288.0625 - val_loss: 238407.8750\n",
      "Epoch 26/100\n",
      "\u001b[1m12118/12118\u001b[0m \u001b[32m━━━━━━━━━━━━━━━━━━━━\u001b[0m\u001b[37m\u001b[0m \u001b[1m41s\u001b[0m 3ms/step - loss: 372222.7188 - val_loss: 234956.2344\n",
      "Epoch 27/100\n",
      "\u001b[1m12118/12118\u001b[0m \u001b[32m━━━━━━━━━━━━━━━━━━━━\u001b[0m\u001b[37m\u001b[0m \u001b[1m38s\u001b[0m 3ms/step - loss: 503735.0625 - val_loss: 234628.6406\n",
      "Epoch 28/100\n",
      "\u001b[1m12118/12118\u001b[0m \u001b[32m━━━━━━━━━━━━━━━━━━━━\u001b[0m\u001b[37m\u001b[0m \u001b[1m38s\u001b[0m 3ms/step - loss: 383017.2812 - val_loss: 235400.4062\n",
      "Epoch 29/100\n",
      "\u001b[1m12118/12118\u001b[0m \u001b[32m━━━━━━━━━━━━━━━━━━━━\u001b[0m\u001b[37m\u001b[0m \u001b[1m38s\u001b[0m 3ms/step - loss: 391824.6250 - val_loss: 234463.1094\n",
      "Epoch 30/100\n",
      "\u001b[1m12118/12118\u001b[0m \u001b[32m━━━━━━━━━━━━━━━━━━━━\u001b[0m\u001b[37m\u001b[0m \u001b[1m45s\u001b[0m 4ms/step - loss: 314383.4688 - val_loss: 235747.0469\n",
      "Epoch 31/100\n",
      "\u001b[1m12118/12118\u001b[0m \u001b[32m━━━━━━━━━━━━━━━━━━━━\u001b[0m\u001b[37m\u001b[0m \u001b[1m118s\u001b[0m 10ms/step - loss: 328490.3750 - val_loss: 237813.7031\n",
      "Epoch 32/100\n",
      "\u001b[1m12118/12118\u001b[0m \u001b[32m━━━━━━━━━━━━━━━━━━━━\u001b[0m\u001b[37m\u001b[0m \u001b[1m36s\u001b[0m 3ms/step - loss: 319878.3750 - val_loss: 236584.1406\n",
      "Epoch 33/100\n",
      "\u001b[1m12118/12118\u001b[0m \u001b[32m━━━━━━━━━━━━━━━━━━━━\u001b[0m\u001b[37m\u001b[0m \u001b[1m39s\u001b[0m 3ms/step - loss: 391694.7500 - val_loss: 239217.6250\n",
      "Epoch 34/100\n",
      "\u001b[1m12118/12118\u001b[0m \u001b[32m━━━━━━━━━━━━━━━━━━━━\u001b[0m\u001b[37m\u001b[0m \u001b[1m39s\u001b[0m 3ms/step - loss: 454380.5312 - val_loss: 233131.9688\n",
      "Epoch 35/100\n",
      "\u001b[1m12118/12118\u001b[0m \u001b[32m━━━━━━━━━━━━━━━━━━━━\u001b[0m\u001b[37m\u001b[0m \u001b[1m38s\u001b[0m 3ms/step - loss: 364249.1562 - val_loss: 230080.4531\n",
      "Epoch 36/100\n",
      "\u001b[1m12118/12118\u001b[0m \u001b[32m━━━━━━━━━━━━━━━━━━━━\u001b[0m\u001b[37m\u001b[0m \u001b[1m38s\u001b[0m 3ms/step - loss: 319534.2500 - val_loss: 233051.5469\n",
      "Epoch 37/100\n",
      "\u001b[1m12118/12118\u001b[0m \u001b[32m━━━━━━━━━━━━━━━━━━━━\u001b[0m\u001b[37m\u001b[0m \u001b[1m38s\u001b[0m 3ms/step - loss: 275000.2812 - val_loss: 229411.9375\n",
      "Epoch 38/100\n",
      "\u001b[1m12118/12118\u001b[0m \u001b[32m━━━━━━━━━━━━━━━━━━━━\u001b[0m\u001b[37m\u001b[0m \u001b[1m38s\u001b[0m 3ms/step - loss: 287211.8750 - val_loss: 232044.4062\n",
      "Epoch 39/100\n",
      "\u001b[1m12118/12118\u001b[0m \u001b[32m━━━━━━━━━━━━━━━━━━━━\u001b[0m\u001b[37m\u001b[0m \u001b[1m38s\u001b[0m 3ms/step - loss: 297900.0000 - val_loss: 234908.3281\n",
      "Epoch 40/100\n",
      "\u001b[1m12118/12118\u001b[0m \u001b[32m━━━━━━━━━━━━━━━━━━━━\u001b[0m\u001b[37m\u001b[0m \u001b[1m38s\u001b[0m 3ms/step - loss: 295775.0938 - val_loss: 228975.8281\n",
      "Epoch 41/100\n",
      "\u001b[1m12118/12118\u001b[0m \u001b[32m━━━━━━━━━━━━━━━━━━━━\u001b[0m\u001b[37m\u001b[0m \u001b[1m40s\u001b[0m 3ms/step - loss: 225918.8281 - val_loss: 230007.1719\n",
      "Epoch 42/100\n",
      "\u001b[1m12118/12118\u001b[0m \u001b[32m━━━━━━━━━━━━━━━━━━━━\u001b[0m\u001b[37m\u001b[0m \u001b[1m40s\u001b[0m 3ms/step - loss: 232799.5781 - val_loss: 229780.8906\n",
      "Epoch 43/100\n",
      "\u001b[1m12118/12118\u001b[0m \u001b[32m━━━━━━━━━━━━━━━━━━━━\u001b[0m\u001b[37m\u001b[0m \u001b[1m39s\u001b[0m 3ms/step - loss: 579662.2500 - val_loss: 231656.2031\n",
      "Epoch 44/100\n",
      "\u001b[1m12118/12118\u001b[0m \u001b[32m━━━━━━━━━━━━━━━━━━━━\u001b[0m\u001b[37m\u001b[0m \u001b[1m39s\u001b[0m 3ms/step - loss: 307384.2812 - val_loss: 228854.4219\n",
      "Epoch 45/100\n",
      "\u001b[1m12118/12118\u001b[0m \u001b[32m━━━━━━━━━━━━━━━━━━━━\u001b[0m\u001b[37m\u001b[0m \u001b[1m39s\u001b[0m 3ms/step - loss: 248723.4844 - val_loss: 228916.2969\n",
      "Epoch 46/100\n",
      "\u001b[1m12118/12118\u001b[0m \u001b[32m━━━━━━━━━━━━━━━━━━━━\u001b[0m\u001b[37m\u001b[0m \u001b[1m39s\u001b[0m 3ms/step - loss: 296715.1875 - val_loss: 235758.4844\n",
      "Epoch 47/100\n",
      "\u001b[1m12118/12118\u001b[0m \u001b[32m━━━━━━━━━━━━━━━━━━━━\u001b[0m\u001b[37m\u001b[0m \u001b[1m39s\u001b[0m 3ms/step - loss: 255786.7031 - val_loss: 228850.6406\n",
      "Epoch 48/100\n",
      "\u001b[1m12118/12118\u001b[0m \u001b[32m━━━━━━━━━━━━━━━━━━━━\u001b[0m\u001b[37m\u001b[0m \u001b[1m39s\u001b[0m 3ms/step - loss: 331804.5938 - val_loss: 229030.9219\n",
      "Epoch 49/100\n",
      "\u001b[1m12118/12118\u001b[0m \u001b[32m━━━━━━━━━━━━━━━━━━━━\u001b[0m\u001b[37m\u001b[0m \u001b[1m39s\u001b[0m 3ms/step - loss: 289557.7188 - val_loss: 230424.3594\n",
      "Epoch 50/100\n",
      "\u001b[1m12118/12118\u001b[0m \u001b[32m━━━━━━━━━━━━━━━━━━━━\u001b[0m\u001b[37m\u001b[0m \u001b[1m39s\u001b[0m 3ms/step - loss: 262230.1875 - val_loss: 227723.4219\n",
      "Epoch 51/100\n",
      "\u001b[1m12118/12118\u001b[0m \u001b[32m━━━━━━━━━━━━━━━━━━━━\u001b[0m\u001b[37m\u001b[0m \u001b[1m39s\u001b[0m 3ms/step - loss: 324692.0625 - val_loss: 229432.0312\n",
      "Epoch 52/100\n",
      "\u001b[1m12118/12118\u001b[0m \u001b[32m━━━━━━━━━━━━━━━━━━━━\u001b[0m\u001b[37m\u001b[0m \u001b[1m39s\u001b[0m 3ms/step - loss: 442482.7812 - val_loss: 228293.3125\n",
      "Epoch 53/100\n",
      "\u001b[1m12118/12118\u001b[0m \u001b[32m━━━━━━━━━━━━━━━━━━━━\u001b[0m\u001b[37m\u001b[0m \u001b[1m42s\u001b[0m 3ms/step - loss: 351230.4062 - val_loss: 227631.0156\n",
      "Epoch 54/100\n",
      "\u001b[1m12118/12118\u001b[0m \u001b[32m━━━━━━━━━━━━━━━━━━━━\u001b[0m\u001b[37m\u001b[0m \u001b[1m39s\u001b[0m 3ms/step - loss: 225058.3281 - val_loss: 232170.6094\n",
      "Epoch 55/100\n",
      "\u001b[1m12118/12118\u001b[0m \u001b[32m━━━━━━━━━━━━━━━━━━━━\u001b[0m\u001b[37m\u001b[0m \u001b[1m38s\u001b[0m 3ms/step - loss: 289692.3125 - val_loss: 231835.3750\n",
      "Epoch 56/100\n",
      "\u001b[1m12118/12118\u001b[0m \u001b[32m━━━━━━━━━━━━━━━━━━━━\u001b[0m\u001b[37m\u001b[0m \u001b[1m39s\u001b[0m 3ms/step - loss: 443677.6562 - val_loss: 227408.1094\n",
      "Epoch 57/100\n",
      "\u001b[1m12118/12118\u001b[0m \u001b[32m━━━━━━━━━━━━━━━━━━━━\u001b[0m\u001b[37m\u001b[0m \u001b[1m41s\u001b[0m 3ms/step - loss: 492666.7188 - val_loss: 229701.7969\n",
      "Epoch 58/100\n",
      "\u001b[1m12118/12118\u001b[0m \u001b[32m━━━━━━━━━━━━━━━━━━━━\u001b[0m\u001b[37m\u001b[0m \u001b[1m40s\u001b[0m 3ms/step - loss: 172684.2812 - val_loss: 228139.7500\n",
      "Epoch 59/100\n",
      "\u001b[1m12118/12118\u001b[0m \u001b[32m━━━━━━━━━━━━━━━━━━━━\u001b[0m\u001b[37m\u001b[0m \u001b[1m38s\u001b[0m 3ms/step - loss: 180485.6250 - val_loss: 233962.3438\n",
      "Epoch 60/100\n",
      "\u001b[1m12118/12118\u001b[0m \u001b[32m━━━━━━━━━━━━━━━━━━━━\u001b[0m\u001b[37m\u001b[0m \u001b[1m37s\u001b[0m 3ms/step - loss: 326358.1250 - val_loss: 227456.7188\n",
      "Epoch 61/100\n",
      "\u001b[1m12118/12118\u001b[0m \u001b[32m━━━━━━━━━━━━━━━━━━━━\u001b[0m\u001b[37m\u001b[0m \u001b[1m37s\u001b[0m 3ms/step - loss: 345165.1875 - val_loss: 230465.5156\n",
      "Epoch 62/100\n",
      "\u001b[1m12118/12118\u001b[0m \u001b[32m━━━━━━━━━━━━━━━━━━━━\u001b[0m\u001b[37m\u001b[0m \u001b[1m37s\u001b[0m 3ms/step - loss: 229634.5625 - val_loss: 229749.1719\n",
      "Epoch 63/100\n",
      "\u001b[1m12118/12118\u001b[0m \u001b[32m━━━━━━━━━━━━━━━━━━━━\u001b[0m\u001b[37m\u001b[0m \u001b[1m40s\u001b[0m 3ms/step - loss: 310132.6250 - val_loss: 229910.2500\n",
      "Epoch 64/100\n",
      "\u001b[1m12118/12118\u001b[0m \u001b[32m━━━━━━━━━━━━━━━━━━━━\u001b[0m\u001b[37m\u001b[0m \u001b[1m37s\u001b[0m 3ms/step - loss: 282072.8125 - val_loss: 234396.3750\n",
      "Epoch 65/100\n",
      "\u001b[1m12118/12118\u001b[0m \u001b[32m━━━━━━━━━━━━━━━━━━━━\u001b[0m\u001b[37m\u001b[0m \u001b[1m37s\u001b[0m 3ms/step - loss: 294692.7188 - val_loss: 233430.8125\n",
      "Epoch 66/100\n",
      "\u001b[1m12118/12118\u001b[0m \u001b[32m━━━━━━━━━━━━━━━━━━━━\u001b[0m\u001b[37m\u001b[0m \u001b[1m36s\u001b[0m 3ms/step - loss: 352117.3750 - val_loss: 232640.2344\n",
      "Epoch 67/100\n",
      "\u001b[1m12118/12118\u001b[0m \u001b[32m━━━━━━━━━━━━━━━━━━━━\u001b[0m\u001b[37m\u001b[0m \u001b[1m37s\u001b[0m 3ms/step - loss: 398783.0312 - val_loss: 237171.8594\n",
      "Epoch 68/100\n",
      "\u001b[1m12118/12118\u001b[0m \u001b[32m━━━━━━━━━━━━━━━━━━━━\u001b[0m\u001b[37m\u001b[0m \u001b[1m37s\u001b[0m 3ms/step - loss: 314017.6562 - val_loss: 234431.4844\n",
      "Epoch 69/100\n",
      "\u001b[1m12118/12118\u001b[0m \u001b[32m━━━━━━━━━━━━━━━━━━━━\u001b[0m\u001b[37m\u001b[0m \u001b[1m37s\u001b[0m 3ms/step - loss: 218925.2188 - val_loss: 236634.7812\n",
      "Epoch 70/100\n",
      "\u001b[1m12118/12118\u001b[0m \u001b[32m━━━━━━━━━━━━━━━━━━━━\u001b[0m\u001b[37m\u001b[0m \u001b[1m37s\u001b[0m 3ms/step - loss: 197502.9219 - val_loss: 239110.3438\n",
      "Epoch 71/100\n",
      "\u001b[1m12118/12118\u001b[0m \u001b[32m━━━━━━━━━━━━━━━━━━━━\u001b[0m\u001b[37m\u001b[0m \u001b[1m36s\u001b[0m 3ms/step - loss: 270718.0312 - val_loss: 236697.0781\n",
      "Epoch 72/100\n",
      "\u001b[1m12118/12118\u001b[0m \u001b[32m━━━━━━━━━━━━━━━━━━━━\u001b[0m\u001b[37m\u001b[0m \u001b[1m37s\u001b[0m 3ms/step - loss: 312057.2500 - val_loss: 247391.0469\n",
      "Epoch 73/100\n",
      "\u001b[1m12118/12118\u001b[0m \u001b[32m━━━━━━━━━━━━━━━━━━━━\u001b[0m\u001b[37m\u001b[0m \u001b[1m41s\u001b[0m 3ms/step - loss: 344659.2500 - val_loss: 235360.5469\n",
      "Epoch 74/100\n",
      "\u001b[1m12118/12118\u001b[0m \u001b[32m━━━━━━━━━━━━━━━━━━━━\u001b[0m\u001b[37m\u001b[0m \u001b[1m37s\u001b[0m 3ms/step - loss: 302505.0000 - val_loss: 238458.6094\n",
      "Epoch 75/100\n",
      "\u001b[1m12118/12118\u001b[0m \u001b[32m━━━━━━━━━━━━━━━━━━━━\u001b[0m\u001b[37m\u001b[0m \u001b[1m33s\u001b[0m 3ms/step - loss: 182666.8281 - val_loss: 240203.9375\n",
      "Epoch 76/100\n",
      "\u001b[1m12118/12118\u001b[0m \u001b[32m━━━━━━━━━━━━━━━━━━━━\u001b[0m\u001b[37m\u001b[0m \u001b[1m29s\u001b[0m 2ms/step - loss: 361375.1875 - val_loss: 233351.2031\n",
      "Epoch 77/100\n",
      "\u001b[1m12118/12118\u001b[0m \u001b[32m━━━━━━━━━━━━━━━━━━━━\u001b[0m\u001b[37m\u001b[0m \u001b[1m30s\u001b[0m 2ms/step - loss: 331654.5000 - val_loss: 235824.0938\n",
      "Epoch 78/100\n",
      "\u001b[1m12118/12118\u001b[0m \u001b[32m━━━━━━━━━━━━━━━━━━━━\u001b[0m\u001b[37m\u001b[0m \u001b[1m30s\u001b[0m 2ms/step - loss: 213012.5625 - val_loss: 236355.5625\n",
      "Epoch 79/100\n",
      "\u001b[1m12118/12118\u001b[0m \u001b[32m━━━━━━━━━━━━━━━━━━━━\u001b[0m\u001b[37m\u001b[0m \u001b[1m30s\u001b[0m 2ms/step - loss: 239451.4375 - val_loss: 235117.1875\n",
      "Epoch 80/100\n",
      "\u001b[1m12118/12118\u001b[0m \u001b[32m━━━━━━━━━━━━━━━━━━━━\u001b[0m\u001b[37m\u001b[0m \u001b[1m32s\u001b[0m 3ms/step - loss: 225522.6094 - val_loss: 236277.7656\n",
      "Epoch 81/100\n",
      "\u001b[1m12118/12118\u001b[0m \u001b[32m━━━━━━━━━━━━━━━━━━━━\u001b[0m\u001b[37m\u001b[0m \u001b[1m33s\u001b[0m 3ms/step - loss: 309906.3125 - val_loss: 236189.9219\n",
      "Epoch 82/100\n",
      "\u001b[1m12118/12118\u001b[0m \u001b[32m━━━━━━━━━━━━━━━━━━━━\u001b[0m\u001b[37m\u001b[0m \u001b[1m30s\u001b[0m 2ms/step - loss: 205435.6719 - val_loss: 238337.2969\n",
      "Epoch 83/100\n",
      "\u001b[1m12118/12118\u001b[0m \u001b[32m━━━━━━━━━━━━━━━━━━━━\u001b[0m\u001b[37m\u001b[0m \u001b[1m30s\u001b[0m 2ms/step - loss: 246196.3125 - val_loss: 236649.5000\n",
      "Epoch 84/100\n",
      "\u001b[1m12118/12118\u001b[0m \u001b[32m━━━━━━━━━━━━━━━━━━━━\u001b[0m\u001b[37m\u001b[0m \u001b[1m30s\u001b[0m 2ms/step - loss: 275465.8750 - val_loss: 237550.0625\n",
      "Epoch 85/100\n",
      "\u001b[1m12118/12118\u001b[0m \u001b[32m━━━━━━━━━━━━━━━━━━━━\u001b[0m\u001b[37m\u001b[0m \u001b[1m30s\u001b[0m 2ms/step - loss: 476565.9062 - val_loss: 238254.1875\n",
      "Epoch 86/100\n",
      "\u001b[1m12118/12118\u001b[0m \u001b[32m━━━━━━━━━━━━━━━━━━━━\u001b[0m\u001b[37m\u001b[0m \u001b[1m32s\u001b[0m 3ms/step - loss: 322752.3438 - val_loss: 232202.0156\n",
      "Epoch 87/100\n",
      "\u001b[1m12118/12118\u001b[0m \u001b[32m━━━━━━━━━━━━━━━━━━━━\u001b[0m\u001b[37m\u001b[0m \u001b[1m30s\u001b[0m 3ms/step - loss: 230000.1406 - val_loss: 244132.1406\n",
      "Epoch 88/100\n",
      "\u001b[1m12118/12118\u001b[0m \u001b[32m━━━━━━━━━━━━━━━━━━━━\u001b[0m\u001b[37m\u001b[0m \u001b[1m32s\u001b[0m 3ms/step - loss: 265683.7812 - val_loss: 236035.6719\n",
      "Epoch 89/100\n",
      "\u001b[1m12118/12118\u001b[0m \u001b[32m━━━━━━━━━━━━━━━━━━━━\u001b[0m\u001b[37m\u001b[0m \u001b[1m36s\u001b[0m 3ms/step - loss: 409542.2188 - val_loss: 233987.6406\n",
      "Epoch 90/100\n",
      "\u001b[1m12118/12118\u001b[0m \u001b[32m━━━━━━━━━━━━━━━━━━━━\u001b[0m\u001b[37m\u001b[0m \u001b[1m30s\u001b[0m 2ms/step - loss: 357564.5625 - val_loss: 237162.4375\n",
      "Epoch 91/100\n",
      "\u001b[1m12118/12118\u001b[0m \u001b[32m━━━━━━━━━━━━━━━━━━━━\u001b[0m\u001b[37m\u001b[0m \u001b[1m42s\u001b[0m 3ms/step - loss: 255483.8750 - val_loss: 245375.7188\n",
      "Epoch 92/100\n",
      "\u001b[1m12118/12118\u001b[0m \u001b[32m━━━━━━━━━━━━━━━━━━━━\u001b[0m\u001b[37m\u001b[0m \u001b[1m37s\u001b[0m 3ms/step - loss: 322544.5000 - val_loss: 241458.2031\n",
      "Epoch 93/100\n",
      "\u001b[1m12118/12118\u001b[0m \u001b[32m━━━━━━━━━━━━━━━━━━━━\u001b[0m\u001b[37m\u001b[0m \u001b[1m35s\u001b[0m 3ms/step - loss: 310109.8438 - val_loss: 233431.6719\n",
      "Epoch 94/100\n",
      "\u001b[1m12118/12118\u001b[0m \u001b[32m━━━━━━━━━━━━━━━━━━━━\u001b[0m\u001b[37m\u001b[0m \u001b[1m35s\u001b[0m 3ms/step - loss: 427481.9688 - val_loss: 240814.6406\n",
      "Epoch 95/100\n",
      "\u001b[1m12118/12118\u001b[0m \u001b[32m━━━━━━━━━━━━━━━━━━━━\u001b[0m\u001b[37m\u001b[0m \u001b[1m31s\u001b[0m 3ms/step - loss: 318310.7812 - val_loss: 241929.7500\n",
      "Epoch 96/100\n",
      "\u001b[1m12118/12118\u001b[0m \u001b[32m━━━━━━━━━━━━━━━━━━━━\u001b[0m\u001b[37m\u001b[0m \u001b[1m31s\u001b[0m 3ms/step - loss: 420323.4062 - val_loss: 232297.5625\n",
      "Epoch 97/100\n",
      "\u001b[1m12118/12118\u001b[0m \u001b[32m━━━━━━━━━━━━━━━━━━━━\u001b[0m\u001b[37m\u001b[0m \u001b[1m41s\u001b[0m 2ms/step - loss: 339434.4375 - val_loss: 233722.8594\n",
      "Epoch 98/100\n",
      "\u001b[1m12118/12118\u001b[0m \u001b[32m━━━━━━━━━━━━━━━━━━━━\u001b[0m\u001b[37m\u001b[0m \u001b[1m252s\u001b[0m 21ms/step - loss: 331418.7188 - val_loss: 237652.8594\n",
      "Epoch 99/100\n",
      "\u001b[1m12118/12118\u001b[0m \u001b[32m━━━━━━━━━━━━━━━━━━━━\u001b[0m\u001b[37m\u001b[0m \u001b[1m29s\u001b[0m 2ms/step - loss: 396965.5625 - val_loss: 238872.1562\n",
      "Epoch 100/100\n",
      "\u001b[1m12118/12118\u001b[0m \u001b[32m━━━━━━━━━━━━━━━━━━━━\u001b[0m\u001b[37m\u001b[0m \u001b[1m31s\u001b[0m 3ms/step - loss: 386342.5938 - val_loss: 234620.0469\n",
      "\u001b[1m1515/1515\u001b[0m \u001b[32m━━━━━━━━━━━━━━━━━━━━\u001b[0m\u001b[37m\u001b[0m \u001b[1m2s\u001b[0m 1ms/step\n",
      "ANN RSquare: 0.5663029900427476\n",
      "ANN RMSE: 484.3756324029822\n"
     ]
    },
    {
     "name": "stderr",
     "output_type": "stream",
     "text": [
      "C:\\ProgramData\\anaconda3\\Lib\\site-packages\\sklearn\\metrics\\_regression.py:492: FutureWarning: 'squared' is deprecated in version 1.4 and will be removed in 1.6. To calculate the root mean squared error, use the function'root_mean_squared_error'.\n",
      "  warnings.warn(\n"
     ]
    }
   ],
   "source": [
    "from tensorflow.keras.models import Sequential\n",
    "from tensorflow.keras.layers import Dense\n",
    "\n",
    "ann_model = Sequential([\n",
    "    Dense(64, input_dim=x_train.shape[1], activation='relu'),\n",
    "    Dense(32, activation='relu'),\n",
    "    Dense(1) \n",
    "])\n",
    "\n",
    "ann_model.compile(optimizer='adam', loss='mse')\n",
    "history = ann_model.fit( x_train_scaled, y_train, epochs=100, batch_size=16,validation_data=(x_test_scaled, y_test),verbose=1)\n",
    "y_pred_ann = ann_model.predict(x_test_scaled).flatten()\n",
    "\n",
    "print(\"ANN RSquare:\", r2_score(y_test, y_pred_ann))\n",
    "print(\"ANN RMSE:\", mean_squared_error(y_test, y_pred_ann, squared=False))"
   ]
  },
  {
   "cell_type": "code",
   "execution_count": null,
   "id": "8150ac1a-23bf-4099-a6b3-265d51dd922d",
   "metadata": {},
   "outputs": [],
   "source": [
    "\n",
    "ann_model.save(\"ann_crop_yield_model.h5\")\n"
   ]
  },
  {
   "cell_type": "code",
   "execution_count": null,
   "id": "96177f3b-9a7f-4422-a5f2-4ec3951fabdf",
   "metadata": {},
   "outputs": [],
   "source": [
    "from sklearn.ensemble import GradientBoostingRegressor\n",
    "gb_model = GradientBoostingRegressor(n_estimators=300, learning_rate=0.1, max_depth=5, random_state=42)\n",
    "gb_model.fit(x_train, y_train)\n",
    "y_pred_gb = gb_model.predict(x_test)\n",
    "\n",
    "gb_r2 = r2_score(y_test, y_pred_gb)\n",
    "gb_rmse = np.sqrt(mean_squared_error(y_test, y_pred_gb))\n"
   ]
  },
  {
   "cell_type": "code",
   "execution_count": null,
   "id": "4db6aec0-9ed9-458c-a577-dc75e1a6ddc5",
   "metadata": {},
   "outputs": [],
   "source": []
  }
 ],
 "metadata": {
  "kernelspec": {
   "display_name": "Python 3 (ipykernel)",
   "language": "python",
   "name": "python3"
  },
  "language_info": {
   "codemirror_mode": {
    "name": "ipython",
    "version": 3
   },
   "file_extension": ".py",
   "mimetype": "text/x-python",
   "name": "python",
   "nbconvert_exporter": "python",
   "pygments_lexer": "ipython3",
   "version": "3.12.7"
  }
 },
 "nbformat": 4,
 "nbformat_minor": 5
}
